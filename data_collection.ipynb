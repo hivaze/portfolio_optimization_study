{
 "cells": [
  {
   "cell_type": "code",
   "execution_count": 2,
   "metadata": {
    "ExecuteTime": {
     "end_time": "2023-06-02T01:53:24.624289912Z",
     "start_time": "2023-06-02T01:53:24.471215722Z"
    }
   },
   "outputs": [],
   "source": [
    "from tqdm.notebook import tqdm\n",
    "import pickle\n",
    "\n",
    "import numpy as np\n",
    "import pandas as pd\n",
    "\n",
    "import seaborn as sns\n",
    "import matplotlib.pyplot as plt\n",
    "import yfinance as yf\n",
    "\n",
    "from collections import Counter\n",
    "\n",
    "from stockstats import StockDataFrame as Sdf"
   ]
  },
  {
   "cell_type": "markdown",
   "metadata": {},
   "source": [
    "## Составляющие индекса S&P500\n",
    "S&P 500 — фондовый индекс, в корзину которого включено 505 акций 500 избранных торгуемых на фондовых биржах США публичных компаний, имеющих наибольшую капитализацию.\n",
    "\n",
    "The S&P 500 component weights:\n",
    "https://www.slickcharts.com/sp500"
   ]
  },
  {
   "cell_type": "code",
   "execution_count": 2,
   "metadata": {
    "ExecuteTime": {
     "end_time": "2023-05-26T10:10:28.601367821Z",
     "start_time": "2023-05-26T10:10:28.101624011Z"
    }
   },
   "outputs": [],
   "source": [
    "sp500_index = pd.read_html('https://en.wikipedia.org/wiki/List_of_S%26P_500_companies')\n",
    "sp500_companies = sp500_index[0]"
   ]
  },
  {
   "cell_type": "code",
   "execution_count": 3,
   "metadata": {
    "ExecuteTime": {
     "end_time": "2023-05-26T10:10:28.603877166Z",
     "start_time": "2023-05-26T10:10:28.602344219Z"
    }
   },
   "outputs": [],
   "source": [
    "# get_nasdaq_symbols().query('ETF==True')"
   ]
  },
  {
   "cell_type": "code",
   "execution_count": 4,
   "metadata": {
    "ExecuteTime": {
     "end_time": "2023-05-26T10:10:28.614713891Z",
     "start_time": "2023-05-26T10:10:28.604375177Z"
    }
   },
   "outputs": [
    {
     "name": "stdout",
     "output_type": "stream",
     "text": [
      "<class 'pandas.core.frame.DataFrame'>\n",
      "RangeIndex: 503 entries, 0 to 502\n",
      "Data columns (total 8 columns):\n",
      " #   Column                 Non-Null Count  Dtype \n",
      "---  ------                 --------------  ----- \n",
      " 0   Symbol                 503 non-null    object\n",
      " 1   Security               503 non-null    object\n",
      " 2   GICS Sector            503 non-null    object\n",
      " 3   GICS Sub-Industry      503 non-null    object\n",
      " 4   Headquarters Location  503 non-null    object\n",
      " 5   Date added             493 non-null    object\n",
      " 6   CIK                    503 non-null    int64 \n",
      " 7   Founded                503 non-null    object\n",
      "dtypes: int64(1), object(7)\n",
      "memory usage: 31.6+ KB\n"
     ]
    }
   ],
   "source": [
    "sp500_companies.info()"
   ]
  },
  {
   "cell_type": "code",
   "execution_count": 5,
   "metadata": {
    "ExecuteTime": {
     "end_time": "2023-05-26T10:10:28.618606492Z",
     "start_time": "2023-05-26T10:10:28.613562936Z"
    }
   },
   "outputs": [
    {
     "data": {
      "text/plain": [
       "GICS Sector\n",
       "Industrials               74\n",
       "Financials                72\n",
       "Information Technology    66\n",
       "Health Care               65\n",
       "Consumer Discretionary    53\n",
       "Consumer Staples          37\n",
       "Utilities                 30\n",
       "Real Estate               30\n",
       "Materials                 29\n",
       "Communication Services    24\n",
       "Energy                    23\n",
       "Name: count, dtype: int64"
      ]
     },
     "execution_count": 5,
     "metadata": {},
     "output_type": "execute_result"
    }
   ],
   "source": [
    "sp500_companies['GICS Sector'].value_counts()"
   ]
  },
  {
   "cell_type": "code",
   "execution_count": 6,
   "metadata": {
    "ExecuteTime": {
     "end_time": "2023-05-26T10:10:28.664327333Z",
     "start_time": "2023-05-26T10:10:28.620447612Z"
    }
   },
   "outputs": [
    {
     "data": {
      "text/html": [
       "<div>\n",
       "<style scoped>\n",
       "    .dataframe tbody tr th:only-of-type {\n",
       "        vertical-align: middle;\n",
       "    }\n",
       "\n",
       "    .dataframe tbody tr th {\n",
       "        vertical-align: top;\n",
       "    }\n",
       "\n",
       "    .dataframe thead th {\n",
       "        text-align: right;\n",
       "    }\n",
       "</style>\n",
       "<table border=\"1\" class=\"dataframe\">\n",
       "  <thead>\n",
       "    <tr style=\"text-align: right;\">\n",
       "      <th></th>\n",
       "      <th>Symbol</th>\n",
       "      <th>Security</th>\n",
       "      <th>GICS Sector</th>\n",
       "      <th>GICS Sub-Industry</th>\n",
       "      <th>Headquarters Location</th>\n",
       "      <th>Date added</th>\n",
       "      <th>CIK</th>\n",
       "      <th>Founded</th>\n",
       "    </tr>\n",
       "  </thead>\n",
       "  <tbody>\n",
       "    <tr>\n",
       "      <th>0</th>\n",
       "      <td>MMM</td>\n",
       "      <td>3M</td>\n",
       "      <td>Industrials</td>\n",
       "      <td>Industrial Conglomerates</td>\n",
       "      <td>Saint Paul, Minnesota</td>\n",
       "      <td>1957-03-04</td>\n",
       "      <td>66740</td>\n",
       "      <td>1902</td>\n",
       "    </tr>\n",
       "    <tr>\n",
       "      <th>1</th>\n",
       "      <td>AOS</td>\n",
       "      <td>A. O. Smith</td>\n",
       "      <td>Industrials</td>\n",
       "      <td>Building Products</td>\n",
       "      <td>Milwaukee, Wisconsin</td>\n",
       "      <td>2017-07-26</td>\n",
       "      <td>91142</td>\n",
       "      <td>1916</td>\n",
       "    </tr>\n",
       "    <tr>\n",
       "      <th>2</th>\n",
       "      <td>ABT</td>\n",
       "      <td>Abbott</td>\n",
       "      <td>Health Care</td>\n",
       "      <td>Health Care Equipment</td>\n",
       "      <td>North Chicago, Illinois</td>\n",
       "      <td>1957-03-04</td>\n",
       "      <td>1800</td>\n",
       "      <td>1888</td>\n",
       "    </tr>\n",
       "    <tr>\n",
       "      <th>3</th>\n",
       "      <td>ABBV</td>\n",
       "      <td>AbbVie</td>\n",
       "      <td>Health Care</td>\n",
       "      <td>Pharmaceuticals</td>\n",
       "      <td>North Chicago, Illinois</td>\n",
       "      <td>2012-12-31</td>\n",
       "      <td>1551152</td>\n",
       "      <td>2013 (1888)</td>\n",
       "    </tr>\n",
       "    <tr>\n",
       "      <th>4</th>\n",
       "      <td>ACN</td>\n",
       "      <td>Accenture</td>\n",
       "      <td>Information Technology</td>\n",
       "      <td>IT Consulting &amp; Other Services</td>\n",
       "      <td>Dublin, Ireland</td>\n",
       "      <td>2011-07-06</td>\n",
       "      <td>1467373</td>\n",
       "      <td>1989</td>\n",
       "    </tr>\n",
       "  </tbody>\n",
       "</table>\n",
       "</div>"
      ],
      "text/plain": [
       "  Symbol     Security             GICS Sector               GICS Sub-Industry   \n",
       "0    MMM           3M             Industrials        Industrial Conglomerates  \\\n",
       "1    AOS  A. O. Smith             Industrials               Building Products   \n",
       "2    ABT       Abbott             Health Care           Health Care Equipment   \n",
       "3   ABBV       AbbVie             Health Care                 Pharmaceuticals   \n",
       "4    ACN    Accenture  Information Technology  IT Consulting & Other Services   \n",
       "\n",
       "     Headquarters Location  Date added      CIK      Founded  \n",
       "0    Saint Paul, Minnesota  1957-03-04    66740         1902  \n",
       "1     Milwaukee, Wisconsin  2017-07-26    91142         1916  \n",
       "2  North Chicago, Illinois  1957-03-04     1800         1888  \n",
       "3  North Chicago, Illinois  2012-12-31  1551152  2013 (1888)  \n",
       "4          Dublin, Ireland  2011-07-06  1467373         1989  "
      ]
     },
     "execution_count": 6,
     "metadata": {},
     "output_type": "execute_result"
    }
   ],
   "source": [
    "sp500_companies.head()"
   ]
  },
  {
   "cell_type": "code",
   "execution_count": 7,
   "metadata": {
    "ExecuteTime": {
     "end_time": "2023-05-26T10:10:28.664460227Z",
     "start_time": "2023-05-26T10:10:28.661887691Z"
    }
   },
   "outputs": [],
   "source": [
    "sp500_companies.to_csv('data/SP500_companies.csv')"
   ]
  },
  {
   "cell_type": "code",
   "execution_count": 8,
   "metadata": {
    "ExecuteTime": {
     "end_time": "2023-05-26T10:10:28.664510352Z",
     "start_time": "2023-05-26T10:10:28.661978393Z"
    }
   },
   "outputs": [],
   "source": [
    "# pd.to_datetime(sp500_companies['Date first added'], format=\"%Y-%m-%d\")"
   ]
  },
  {
   "cell_type": "code",
   "execution_count": 9,
   "metadata": {
    "ExecuteTime": {
     "end_time": "2023-05-26T10:10:28.664602259Z",
     "start_time": "2023-05-26T10:10:28.662008452Z"
    }
   },
   "outputs": [
    {
     "data": {
      "text/plain": [
       "503"
      ]
     },
     "execution_count": 9,
     "metadata": {},
     "output_type": "execute_result"
    }
   ],
   "source": [
    "symbols = list(sp500_companies['Symbol'])\n",
    "len(symbols)"
   ]
  },
  {
   "cell_type": "markdown",
   "metadata": {},
   "source": [
    "### Информация за 10 лет"
   ]
  },
  {
   "cell_type": "code",
   "execution_count": 10,
   "metadata": {
    "ExecuteTime": {
     "end_time": "2023-05-26T10:10:28.664644174Z",
     "start_time": "2023-05-26T10:10:28.662038036Z"
    }
   },
   "outputs": [],
   "source": [
    "technical_indicators = ['rsi_20', 'macd', 'close_20_sma', 'close_60_sma', 'wr_20', 'wr_60', 'cci_20', 'close_20_mvar', 'dma']"
   ]
  },
  {
   "cell_type": "code",
   "execution_count": 11,
   "metadata": {
    "ExecuteTime": {
     "end_time": "2023-05-26T10:10:28.664679675Z",
     "start_time": "2023-05-26T10:10:28.662099139Z"
    }
   },
   "outputs": [],
   "source": [
    "# df = yf.download('GOOGL', start = '2013-01-01', end = '2023-01-01', interval='1d', progress=False)\n",
    "# Sdf.retype(df)[technical_indicators]"
   ]
  },
  {
   "cell_type": "code",
   "execution_count": 12,
   "metadata": {},
   "outputs": [],
   "source": [
    "def pct_column(df, column, drop=True):\n",
    "    df[column + '_change'] = df[column].pct_change()\n",
    "    if drop:\n",
    "        df.drop([column], axis=1, inplace=True)"
   ]
  },
  {
   "cell_type": "code",
   "execution_count": 13,
   "metadata": {
    "ExecuteTime": {
     "end_time": "2023-05-26T10:15:20.218082991Z",
     "start_time": "2023-05-26T10:15:20.176537693Z"
    }
   },
   "outputs": [],
   "source": [
    "def get_stock_data(ticker, start, end, technical_indicators):\n",
    "    ts = yf.download(ticker, start, end, interval='1d', threads=False, progress=False)\n",
    "    indicators_df = Sdf.retype(ts.copy())[technical_indicators]\n",
    "    total_df = pd.concat([ts, indicators_df], axis=1).dropna()\n",
    "    \n",
    "    total_df['MaxDayDelta'] = ts['High'] - ts['Low']\n",
    "    \n",
    "    pct_column(total_df, 'MaxDayDelta')\n",
    "    pct_column(total_df, 'Volume')\n",
    "    pct_column(total_df, 'Close')\n",
    "    pct_column(total_df, 'close_20_sma')\n",
    "    pct_column(total_df, 'close_60_sma')\n",
    "    \n",
    "    total_df.drop(['Open', 'High', 'Low', 'Adj Close'], axis=1, inplace=True)\n",
    "    \n",
    "    total_df = total_df.replace([np.inf, -np.inf], 0).dropna()\n",
    "    \n",
    "    return total_df"
   ]
  },
  {
   "cell_type": "code",
   "execution_count": 15,
   "metadata": {
    "ExecuteTime": {
     "end_time": "2023-05-26T10:19:00.734050211Z",
     "start_time": "2023-05-26T10:19:00.687258525Z"
    }
   },
   "outputs": [
    {
     "data": {
      "text/html": [
       "<div>\n",
       "<style scoped>\n",
       "    .dataframe tbody tr th:only-of-type {\n",
       "        vertical-align: middle;\n",
       "    }\n",
       "\n",
       "    .dataframe tbody tr th {\n",
       "        vertical-align: top;\n",
       "    }\n",
       "\n",
       "    .dataframe thead th {\n",
       "        text-align: right;\n",
       "    }\n",
       "</style>\n",
       "<table border=\"1\" class=\"dataframe\">\n",
       "  <thead>\n",
       "    <tr style=\"text-align: right;\">\n",
       "      <th></th>\n",
       "      <th>rsi_20</th>\n",
       "      <th>macd</th>\n",
       "      <th>wr_20</th>\n",
       "      <th>wr_60</th>\n",
       "      <th>cci_20</th>\n",
       "      <th>close_20_mvar</th>\n",
       "      <th>dma</th>\n",
       "      <th>MaxDayDelta_change</th>\n",
       "      <th>Volume_change</th>\n",
       "      <th>Close_change</th>\n",
       "      <th>close_20_sma_change</th>\n",
       "      <th>close_60_sma_change</th>\n",
       "    </tr>\n",
       "    <tr>\n",
       "      <th>Date</th>\n",
       "      <th></th>\n",
       "      <th></th>\n",
       "      <th></th>\n",
       "      <th></th>\n",
       "      <th></th>\n",
       "      <th></th>\n",
       "      <th></th>\n",
       "      <th></th>\n",
       "      <th></th>\n",
       "      <th></th>\n",
       "      <th></th>\n",
       "      <th></th>\n",
       "    </tr>\n",
       "  </thead>\n",
       "  <tbody>\n",
       "    <tr>\n",
       "      <th>2013-01-04</th>\n",
       "      <td>100.000000</td>\n",
       "      <td>0.011398</td>\n",
       "      <td>-14.044923</td>\n",
       "      <td>-14.044923</td>\n",
       "      <td>100.000000</td>\n",
       "      <td>0.043978</td>\n",
       "      <td>0.000000</td>\n",
       "      <td>0.230148</td>\n",
       "      <td>0.192089</td>\n",
       "      <td>0.019760</td>\n",
       "      <td>0.006685</td>\n",
       "      <td>0.006685</td>\n",
       "    </tr>\n",
       "    <tr>\n",
       "      <th>2013-01-07</th>\n",
       "      <td>81.261556</td>\n",
       "      <td>0.013286</td>\n",
       "      <td>-26.966461</td>\n",
       "      <td>-26.966461</td>\n",
       "      <td>61.989858</td>\n",
       "      <td>0.035839</td>\n",
       "      <td>0.000000</td>\n",
       "      <td>-0.361860</td>\n",
       "      <td>-0.400868</td>\n",
       "      <td>-0.004363</td>\n",
       "      <td>0.002215</td>\n",
       "      <td>0.002215</td>\n",
       "    </tr>\n",
       "    <tr>\n",
       "      <th>2013-01-08</th>\n",
       "      <td>74.632754</td>\n",
       "      <td>0.012588</td>\n",
       "      <td>-32.784945</td>\n",
       "      <td>-32.784945</td>\n",
       "      <td>19.348345</td>\n",
       "      <td>0.028319</td>\n",
       "      <td>0.000000</td>\n",
       "      <td>0.348871</td>\n",
       "      <td>0.012321</td>\n",
       "      <td>-0.001973</td>\n",
       "      <td>0.000929</td>\n",
       "      <td>0.000929</td>\n",
       "    </tr>\n",
       "    <tr>\n",
       "      <th>2013-01-09</th>\n",
       "      <td>80.265725</td>\n",
       "      <td>0.017090</td>\n",
       "      <td>-13.443011</td>\n",
       "      <td>-13.443011</td>\n",
       "      <td>61.247612</td>\n",
       "      <td>0.028576</td>\n",
       "      <td>0.000000</td>\n",
       "      <td>-0.178601</td>\n",
       "      <td>0.207983</td>\n",
       "      <td>0.006573</td>\n",
       "      <td>0.001718</td>\n",
       "      <td>0.001718</td>\n",
       "    </tr>\n",
       "    <tr>\n",
       "      <th>2013-01-10</th>\n",
       "      <td>83.030714</td>\n",
       "      <td>0.023491</td>\n",
       "      <td>-12.372714</td>\n",
       "      <td>-12.372714</td>\n",
       "      <td>106.876902</td>\n",
       "      <td>0.032122</td>\n",
       "      <td>0.000000</td>\n",
       "      <td>0.179491</td>\n",
       "      <td>-0.093347</td>\n",
       "      <td>0.004552</td>\n",
       "      <td>0.001881</td>\n",
       "      <td>0.001881</td>\n",
       "    </tr>\n",
       "    <tr>\n",
       "      <th>2013-01-11</th>\n",
       "      <td>77.933682</td>\n",
       "      <td>0.025633</td>\n",
       "      <td>-17.609899</td>\n",
       "      <td>-17.609899</td>\n",
       "      <td>87.037378</td>\n",
       "      <td>0.031121</td>\n",
       "      <td>0.000000</td>\n",
       "      <td>-0.466961</td>\n",
       "      <td>-0.299886</td>\n",
       "      <td>-0.002009</td>\n",
       "      <td>0.001154</td>\n",
       "      <td>0.001154</td>\n",
       "    </tr>\n",
       "    <tr>\n",
       "      <th>2013-01-14</th>\n",
       "      <td>45.152977</td>\n",
       "      <td>0.005942</td>\n",
       "      <td>-76.450212</td>\n",
       "      <td>-76.450212</td>\n",
       "      <td>-45.352848</td>\n",
       "      <td>0.035371</td>\n",
       "      <td>0.000000</td>\n",
       "      <td>2.238204</td>\n",
       "      <td>1.228369</td>\n",
       "      <td>-0.022622</td>\n",
       "      <td>-0.001637</td>\n",
       "      <td>-0.001637</td>\n",
       "    </tr>\n",
       "    <tr>\n",
       "      <th>2013-01-15</th>\n",
       "      <td>47.486487</td>\n",
       "      <td>-0.005947</td>\n",
       "      <td>-61.003014</td>\n",
       "      <td>-61.003014</td>\n",
       "      <td>-97.625379</td>\n",
       "      <td>0.035384</td>\n",
       "      <td>0.000000</td>\n",
       "      <td>0.153648</td>\n",
       "      <td>0.371452</td>\n",
       "      <td>0.002323</td>\n",
       "      <td>-0.001083</td>\n",
       "      <td>-0.001083</td>\n",
       "    </tr>\n",
       "    <tr>\n",
       "      <th>2013-01-16</th>\n",
       "      <td>37.698559</td>\n",
       "      <td>-0.027441</td>\n",
       "      <td>-90.607864</td>\n",
       "      <td>-90.607864</td>\n",
       "      <td>-138.773849</td>\n",
       "      <td>0.048069</td>\n",
       "      <td>0.018234</td>\n",
       "      <td>-0.534060</td>\n",
       "      <td>-0.484838</td>\n",
       "      <td>-0.013436</td>\n",
       "      <td>-0.002096</td>\n",
       "      <td>-0.002096</td>\n",
       "    </tr>\n",
       "    <tr>\n",
       "      <th>2013-01-17</th>\n",
       "      <td>34.706547</td>\n",
       "      <td>-0.048146</td>\n",
       "      <td>-99.117150</td>\n",
       "      <td>-99.117150</td>\n",
       "      <td>-143.645619</td>\n",
       "      <td>0.062971</td>\n",
       "      <td>0.027403</td>\n",
       "      <td>-0.192130</td>\n",
       "      <td>0.092962</td>\n",
       "      <td>-0.005411</td>\n",
       "      <td>-0.002192</td>\n",
       "      <td>-0.002192</td>\n",
       "    </tr>\n",
       "  </tbody>\n",
       "</table>\n",
       "</div>"
      ],
      "text/plain": [
       "                rsi_20      macd      wr_20      wr_60      cci_20   \n",
       "Date                                                                 \n",
       "2013-01-04  100.000000  0.011398 -14.044923 -14.044923  100.000000  \\\n",
       "2013-01-07   81.261556  0.013286 -26.966461 -26.966461   61.989858   \n",
       "2013-01-08   74.632754  0.012588 -32.784945 -32.784945   19.348345   \n",
       "2013-01-09   80.265725  0.017090 -13.443011 -13.443011   61.247612   \n",
       "2013-01-10   83.030714  0.023491 -12.372714 -12.372714  106.876902   \n",
       "2013-01-11   77.933682  0.025633 -17.609899 -17.609899   87.037378   \n",
       "2013-01-14   45.152977  0.005942 -76.450212 -76.450212  -45.352848   \n",
       "2013-01-15   47.486487 -0.005947 -61.003014 -61.003014  -97.625379   \n",
       "2013-01-16   37.698559 -0.027441 -90.607864 -90.607864 -138.773849   \n",
       "2013-01-17   34.706547 -0.048146 -99.117150 -99.117150 -143.645619   \n",
       "\n",
       "            close_20_mvar       dma  MaxDayDelta_change  Volume_change   \n",
       "Date                                                                     \n",
       "2013-01-04       0.043978  0.000000            0.230148       0.192089  \\\n",
       "2013-01-07       0.035839  0.000000           -0.361860      -0.400868   \n",
       "2013-01-08       0.028319  0.000000            0.348871       0.012321   \n",
       "2013-01-09       0.028576  0.000000           -0.178601       0.207983   \n",
       "2013-01-10       0.032122  0.000000            0.179491      -0.093347   \n",
       "2013-01-11       0.031121  0.000000           -0.466961      -0.299886   \n",
       "2013-01-14       0.035371  0.000000            2.238204       1.228369   \n",
       "2013-01-15       0.035384  0.000000            0.153648       0.371452   \n",
       "2013-01-16       0.048069  0.018234           -0.534060      -0.484838   \n",
       "2013-01-17       0.062971  0.027403           -0.192130       0.092962   \n",
       "\n",
       "            Close_change  close_20_sma_change  close_60_sma_change  \n",
       "Date                                                                \n",
       "2013-01-04      0.019760             0.006685             0.006685  \n",
       "2013-01-07     -0.004363             0.002215             0.002215  \n",
       "2013-01-08     -0.001973             0.000929             0.000929  \n",
       "2013-01-09      0.006573             0.001718             0.001718  \n",
       "2013-01-10      0.004552             0.001881             0.001881  \n",
       "2013-01-11     -0.002009             0.001154             0.001154  \n",
       "2013-01-14     -0.022622            -0.001637            -0.001637  \n",
       "2013-01-15      0.002323            -0.001083            -0.001083  \n",
       "2013-01-16     -0.013436            -0.002096            -0.002096  \n",
       "2013-01-17     -0.005411            -0.002192            -0.002192  "
      ]
     },
     "execution_count": 15,
     "metadata": {},
     "output_type": "execute_result"
    }
   ],
   "source": [
    "get_stock_data('GOOGL', start = '2013-01-01', end = '2023-01-01', technical_indicators=technical_indicators).head(10)"
   ]
  },
  {
   "cell_type": "code",
   "execution_count": 16,
   "metadata": {
    "ExecuteTime": {
     "end_time": "2023-05-26T10:19:53.452958599Z",
     "start_time": "2023-05-26T10:19:52.750279138Z"
    }
   },
   "outputs": [],
   "source": [
    "def get_sp500_data(sp500_df, start=None, end=None):\n",
    "    data = []\n",
    "    for i, row in tqdm(sp500_df.iterrows(), total=len(sp500_df)):\n",
    "        sector, ticker = row['GICS Sector'], row['Symbol']\n",
    "        try:\n",
    "            stock_data = get_stock_data(ticker, start, end, technical_indicators)\n",
    "            data.append({\n",
    "                'ticker': ticker,\n",
    "                'sector': sector,\n",
    "                'data': stock_data\n",
    "            })\n",
    "        except Exception as e:\n",
    "            print(f'Error occurred with ticker {ticker}: {e}')\n",
    "    return data"
   ]
  },
  {
   "cell_type": "code",
   "execution_count": 17,
   "metadata": {
    "ExecuteTime": {
     "end_time": "2023-05-26T10:20:44.337715276Z",
     "start_time": "2023-05-26T10:20:44.334297936Z"
    }
   },
   "outputs": [
    {
     "data": {
      "application/vnd.jupyter.widget-view+json": {
       "model_id": "6474fc505e174c7c91d6b47ec965b608",
       "version_major": 2,
       "version_minor": 0
      },
      "text/plain": [
       "  0%|          | 0/503 [00:00<?, ?it/s]"
      ]
     },
     "metadata": {},
     "output_type": "display_data"
    },
    {
     "name": "stdout",
     "output_type": "stream",
     "text": [
      "\n",
      "1 Failed download:\n",
      "- BRK.B: No timezone found, symbol may be delisted\n",
      "\n",
      "1 Failed download:\n",
      "- BF.B: No data found for this date range, symbol may be delisted\n"
     ]
    },
    {
     "data": {
      "text/plain": [
       "503"
      ]
     },
     "execution_count": 17,
     "metadata": {},
     "output_type": "execute_result"
    }
   ],
   "source": [
    "total_data = get_sp500_data(sp500_companies, start = '2013-01-01', end = '2023-01-01')\n",
    "len(total_data)"
   ]
  },
  {
   "cell_type": "code",
   "execution_count": null,
   "metadata": {
    "ExecuteTime": {
     "end_time": "2023-05-26T10:25:39.008784489Z",
     "start_time": "2023-05-26T10:20:49.989486403Z"
    }
   },
   "outputs": [],
   "source": [
    "# with open('data/sp500_data.pickle', 'rb') as f:\n",
    "#     data_for_symbols = pickle.load(f)"
   ]
  },
  {
   "cell_type": "code",
   "execution_count": 18,
   "metadata": {
    "ExecuteTime": {
     "end_time": "2023-05-25T15:35:11.275227934Z",
     "start_time": "2023-05-25T15:35:11.273567553Z"
    }
   },
   "outputs": [
    {
     "data": {
      "image/png": "[encoded data removed]",
      "text/plain": [
       "<Figure size 640x480 with 1 Axes>"
      ]
     },
     "metadata": {},
     "output_type": "display_data"
    }
   ],
   "source": [
    "observations = [len(d['data']) for d in total_data]\n",
    "most_popular = Counter(observations).most_common()[0][0]\n",
    "counts = filter(lambda x: x < most_popular, observations)\n",
    "sns.histplot(x=counts)\n",
    "plt.show()"
   ]
  },
  {
   "cell_type": "code",
   "execution_count": 19,
   "metadata": {
    "ExecuteTime": {
     "end_time": "2023-05-26T10:27:48.187020383Z",
     "start_time": "2023-05-26T10:27:48.056325932Z"
    }
   },
   "outputs": [
    {
     "data": {
      "text/plain": [
       "2516"
      ]
     },
     "execution_count": 19,
     "metadata": {},
     "output_type": "execute_result"
    }
   ],
   "source": [
    "most_popular"
   ]
  },
  {
   "cell_type": "markdown",
   "metadata": {
    "ExecuteTime": {
     "end_time": "2023-05-26T10:27:50.087798064Z",
     "start_time": "2023-05-26T10:27:50.083905806Z"
    }
   },
   "source": [
    "### Убираем тикеры с количеством записей не равным медиане"
   ]
  },
  {
   "cell_type": "code",
   "execution_count": 20,
   "metadata": {
    "ExecuteTime": {
     "end_time": "2023-05-01T21:40:01.467456628Z",
     "start_time": "2023-05-01T21:40:01.466112618Z"
    }
   },
   "outputs": [
    {
     "data": {
      "text/plain": [
       "(453, 50)"
      ]
     },
     "execution_count": 20,
     "metadata": {},
     "output_type": "execute_result"
    }
   ],
   "source": [
    "filtered_total_data = [d for d in total_data if len(d['data']) == most_popular]\n",
    "len(filtered_total_data), len(total_data) - len(filtered_total_data)"
   ]
  },
  {
   "cell_type": "code",
   "execution_count": 20,
   "metadata": {
    "ExecuteTime": {
     "end_time": "2023-05-26T10:27:51.599913603Z",
     "start_time": "2023-05-26T10:27:51.596785358Z"
    }
   },
   "outputs": [],
   "source": [
    "with open('data/sp500_components_10y.pickle', 'wb') as f:\n",
    "    pickle.dump(filtered_total_data, f)"
   ]
  },
  {
   "cell_type": "code",
   "execution_count": 21,
   "metadata": {
    "ExecuteTime": {
     "end_time": "2023-05-26T10:28:01.120294418Z",
     "start_time": "2023-05-26T10:28:01.012514994Z"
    }
   },
   "outputs": [
    {
     "data": {
      "text/html": [
       "<div>\n",
       "<style scoped>\n",
       "    .dataframe tbody tr th:only-of-type {\n",
       "        vertical-align: middle;\n",
       "    }\n",
       "\n",
       "    .dataframe tbody tr th {\n",
       "        vertical-align: top;\n",
       "    }\n",
       "\n",
       "    .dataframe thead th {\n",
       "        text-align: right;\n",
       "    }\n",
       "</style>\n",
       "<table border=\"1\" class=\"dataframe\">\n",
       "  <thead>\n",
       "    <tr style=\"text-align: right;\">\n",
       "      <th></th>\n",
       "      <th>MMM</th>\n",
       "      <th>AOS</th>\n",
       "      <th>ABT</th>\n",
       "      <th>ABBV</th>\n",
       "      <th>ACN</th>\n",
       "      <th>ATVI</th>\n",
       "      <th>ADM</th>\n",
       "      <th>ADBE</th>\n",
       "      <th>ADP</th>\n",
       "      <th>AES</th>\n",
       "      <th>...</th>\n",
       "      <th>WHR</th>\n",
       "      <th>WMB</th>\n",
       "      <th>GWW</th>\n",
       "      <th>WYNN</th>\n",
       "      <th>XEL</th>\n",
       "      <th>XYL</th>\n",
       "      <th>YUM</th>\n",
       "      <th>ZBRA</th>\n",
       "      <th>ZBH</th>\n",
       "      <th>ZION</th>\n",
       "    </tr>\n",
       "    <tr>\n",
       "      <th>Date</th>\n",
       "      <th></th>\n",
       "      <th></th>\n",
       "      <th></th>\n",
       "      <th></th>\n",
       "      <th></th>\n",
       "      <th></th>\n",
       "      <th></th>\n",
       "      <th></th>\n",
       "      <th></th>\n",
       "      <th></th>\n",
       "      <th></th>\n",
       "      <th></th>\n",
       "      <th></th>\n",
       "      <th></th>\n",
       "      <th></th>\n",
       "      <th></th>\n",
       "      <th></th>\n",
       "      <th></th>\n",
       "      <th></th>\n",
       "      <th></th>\n",
       "      <th></th>\n",
       "    </tr>\n",
       "  </thead>\n",
       "  <tbody>\n",
       "    <tr>\n",
       "      <th>2013-01-04</th>\n",
       "      <td>0.007394</td>\n",
       "      <td>0.010849</td>\n",
       "      <td>-0.006011</td>\n",
       "      <td>-0.012633</td>\n",
       "      <td>0.005523</td>\n",
       "      <td>0.014532</td>\n",
       "      <td>0.027426</td>\n",
       "      <td>0.010066</td>\n",
       "      <td>0.008871</td>\n",
       "      <td>0.023766</td>\n",
       "      <td>...</td>\n",
       "      <td>-0.008513</td>\n",
       "      <td>0.010956</td>\n",
       "      <td>0.006519</td>\n",
       "      <td>0.012066</td>\n",
       "      <td>0.003663</td>\n",
       "      <td>-0.001459</td>\n",
       "      <td>0.010950</td>\n",
       "      <td>-0.008049</td>\n",
       "      <td>0.005097</td>\n",
       "      <td>0.028610</td>\n",
       "    </tr>\n",
       "    <tr>\n",
       "      <th>2013-01-07</th>\n",
       "      <td>0.001258</td>\n",
       "      <td>-0.011044</td>\n",
       "      <td>0.008165</td>\n",
       "      <td>0.002035</td>\n",
       "      <td>-0.004336</td>\n",
       "      <td>0.000895</td>\n",
       "      <td>-0.041410</td>\n",
       "      <td>-0.004983</td>\n",
       "      <td>-0.003889</td>\n",
       "      <td>-0.031250</td>\n",
       "      <td>...</td>\n",
       "      <td>-0.015284</td>\n",
       "      <td>-0.004394</td>\n",
       "      <td>-0.006237</td>\n",
       "      <td>0.003395</td>\n",
       "      <td>-0.010584</td>\n",
       "      <td>-0.013153</td>\n",
       "      <td>-0.006294</td>\n",
       "      <td>0.005655</td>\n",
       "      <td>0.002463</td>\n",
       "      <td>-0.004856</td>\n",
       "    </tr>\n",
       "    <tr>\n",
       "      <th>2013-01-08</th>\n",
       "      <td>0.000105</td>\n",
       "      <td>0.019031</td>\n",
       "      <td>0.000300</td>\n",
       "      <td>-0.021764</td>\n",
       "      <td>0.005806</td>\n",
       "      <td>-0.016995</td>\n",
       "      <td>0.011782</td>\n",
       "      <td>0.005272</td>\n",
       "      <td>0.005772</td>\n",
       "      <td>0.000000</td>\n",
       "      <td>...</td>\n",
       "      <td>0.006132</td>\n",
       "      <td>-0.012357</td>\n",
       "      <td>-0.016705</td>\n",
       "      <td>-0.000825</td>\n",
       "      <td>0.001844</td>\n",
       "      <td>-0.012218</td>\n",
       "      <td>-0.041980</td>\n",
       "      <td>0.000733</td>\n",
       "      <td>0.001445</td>\n",
       "      <td>-0.019965</td>\n",
       "    </tr>\n",
       "    <tr>\n",
       "      <th>2013-01-09</th>\n",
       "      <td>0.009529</td>\n",
       "      <td>-0.006482</td>\n",
       "      <td>0.006597</td>\n",
       "      <td>0.005636</td>\n",
       "      <td>0.007072</td>\n",
       "      <td>-0.004550</td>\n",
       "      <td>0.004940</td>\n",
       "      <td>0.013634</td>\n",
       "      <td>-0.002532</td>\n",
       "      <td>0.004608</td>\n",
       "      <td>...</td>\n",
       "      <td>0.007618</td>\n",
       "      <td>0.005958</td>\n",
       "      <td>0.006874</td>\n",
       "      <td>0.003551</td>\n",
       "      <td>0.001473</td>\n",
       "      <td>0.015742</td>\n",
       "      <td>-0.003383</td>\n",
       "      <td>0.010750</td>\n",
       "      <td>0.018473</td>\n",
       "      <td>-0.010865</td>\n",
       "    </tr>\n",
       "    <tr>\n",
       "      <th>2013-01-10</th>\n",
       "      <td>0.004979</td>\n",
       "      <td>0.008234</td>\n",
       "      <td>0.008341</td>\n",
       "      <td>0.002950</td>\n",
       "      <td>-0.008742</td>\n",
       "      <td>-0.000914</td>\n",
       "      <td>-0.004916</td>\n",
       "      <td>-0.001035</td>\n",
       "      <td>0.003722</td>\n",
       "      <td>0.017431</td>\n",
       "      <td>...</td>\n",
       "      <td>-0.000284</td>\n",
       "      <td>0.001185</td>\n",
       "      <td>-0.006388</td>\n",
       "      <td>0.011356</td>\n",
       "      <td>0.000000</td>\n",
       "      <td>0.014022</td>\n",
       "      <td>0.022061</td>\n",
       "      <td>-0.005318</td>\n",
       "      <td>0.001984</td>\n",
       "      <td>0.004577</td>\n",
       "    </tr>\n",
       "    <tr>\n",
       "      <th>2013-01-11</th>\n",
       "      <td>-0.006296</td>\n",
       "      <td>-0.004931</td>\n",
       "      <td>-0.014180</td>\n",
       "      <td>-0.004412</td>\n",
       "      <td>0.010265</td>\n",
       "      <td>0.053980</td>\n",
       "      <td>0.000000</td>\n",
       "      <td>-0.013723</td>\n",
       "      <td>0.001686</td>\n",
       "      <td>0.001803</td>\n",
       "      <td>...</td>\n",
       "      <td>-0.006901</td>\n",
       "      <td>-0.009465</td>\n",
       "      <td>0.004319</td>\n",
       "      <td>0.000732</td>\n",
       "      <td>-0.001103</td>\n",
       "      <td>-0.010917</td>\n",
       "      <td>0.009359</td>\n",
       "      <td>0.003645</td>\n",
       "      <td>0.006505</td>\n",
       "      <td>-0.009112</td>\n",
       "    </tr>\n",
       "    <tr>\n",
       "      <th>2013-01-14</th>\n",
       "      <td>0.008309</td>\n",
       "      <td>0.022762</td>\n",
       "      <td>-0.000300</td>\n",
       "      <td>0.007090</td>\n",
       "      <td>-0.000286</td>\n",
       "      <td>-0.001736</td>\n",
       "      <td>0.007763</td>\n",
       "      <td>0.001838</td>\n",
       "      <td>-0.000168</td>\n",
       "      <td>-0.007201</td>\n",
       "      <td>...</td>\n",
       "      <td>0.003617</td>\n",
       "      <td>-0.000597</td>\n",
       "      <td>0.011533</td>\n",
       "      <td>-0.001545</td>\n",
       "      <td>-0.003312</td>\n",
       "      <td>0.001104</td>\n",
       "      <td>-0.010767</td>\n",
       "      <td>-0.007748</td>\n",
       "      <td>-0.001686</td>\n",
       "      <td>0.005057</td>\n",
       "    </tr>\n",
       "    <tr>\n",
       "      <th>2013-01-15</th>\n",
       "      <td>0.002163</td>\n",
       "      <td>-0.003180</td>\n",
       "      <td>-0.010192</td>\n",
       "      <td>0.014960</td>\n",
       "      <td>0.005583</td>\n",
       "      <td>0.006087</td>\n",
       "      <td>-0.004902</td>\n",
       "      <td>-0.000262</td>\n",
       "      <td>-0.004545</td>\n",
       "      <td>-0.002720</td>\n",
       "      <td>...</td>\n",
       "      <td>-0.009485</td>\n",
       "      <td>-0.005079</td>\n",
       "      <td>0.005218</td>\n",
       "      <td>0.008143</td>\n",
       "      <td>-0.001108</td>\n",
       "      <td>-0.002940</td>\n",
       "      <td>0.003326</td>\n",
       "      <td>0.003904</td>\n",
       "      <td>0.000141</td>\n",
       "      <td>0.008692</td>\n",
       "    </tr>\n",
       "    <tr>\n",
       "      <th>2013-01-16</th>\n",
       "      <td>0.003186</td>\n",
       "      <td>-0.014277</td>\n",
       "      <td>-0.009691</td>\n",
       "      <td>0.027168</td>\n",
       "      <td>-0.005125</td>\n",
       "      <td>-0.012965</td>\n",
       "      <td>-0.001056</td>\n",
       "      <td>-0.007077</td>\n",
       "      <td>-0.005242</td>\n",
       "      <td>-0.004545</td>\n",
       "      <td>...</td>\n",
       "      <td>-0.015609</td>\n",
       "      <td>0.004204</td>\n",
       "      <td>0.000577</td>\n",
       "      <td>-0.006785</td>\n",
       "      <td>-0.005176</td>\n",
       "      <td>-0.006635</td>\n",
       "      <td>-0.006328</td>\n",
       "      <td>-0.000729</td>\n",
       "      <td>0.011962</td>\n",
       "      <td>0.011791</td>\n",
       "    </tr>\n",
       "    <tr>\n",
       "      <th>2013-01-17</th>\n",
       "      <td>0.004918</td>\n",
       "      <td>0.032974</td>\n",
       "      <td>0.002446</td>\n",
       "      <td>0.024761</td>\n",
       "      <td>0.000000</td>\n",
       "      <td>0.000000</td>\n",
       "      <td>0.013737</td>\n",
       "      <td>-0.003960</td>\n",
       "      <td>0.005779</td>\n",
       "      <td>0.010959</td>\n",
       "      <td>...</td>\n",
       "      <td>0.044747</td>\n",
       "      <td>0.010766</td>\n",
       "      <td>0.010327</td>\n",
       "      <td>0.004066</td>\n",
       "      <td>0.002230</td>\n",
       "      <td>0.017440</td>\n",
       "      <td>-0.008340</td>\n",
       "      <td>0.005108</td>\n",
       "      <td>0.015158</td>\n",
       "      <td>0.008516</td>\n",
       "    </tr>\n",
       "  </tbody>\n",
       "</table>\n",
       "<p>10 rows × 453 columns</p>\n",
       "</div>"
      ],
      "text/plain": [
       "                 MMM       AOS       ABT      ABBV       ACN      ATVI   \n",
       "Date                                                                     \n",
       "2013-01-04  0.007394  0.010849 -0.006011 -0.012633  0.005523  0.014532  \\\n",
       "2013-01-07  0.001258 -0.011044  0.008165  0.002035 -0.004336  0.000895   \n",
       "2013-01-08  0.000105  0.019031  0.000300 -0.021764  0.005806 -0.016995   \n",
       "2013-01-09  0.009529 -0.006482  0.006597  0.005636  0.007072 -0.004550   \n",
       "2013-01-10  0.004979  0.008234  0.008341  0.002950 -0.008742 -0.000914   \n",
       "2013-01-11 -0.006296 -0.004931 -0.014180 -0.004412  0.010265  0.053980   \n",
       "2013-01-14  0.008309  0.022762 -0.000300  0.007090 -0.000286 -0.001736   \n",
       "2013-01-15  0.002163 -0.003180 -0.010192  0.014960  0.005583  0.006087   \n",
       "2013-01-16  0.003186 -0.014277 -0.009691  0.027168 -0.005125 -0.012965   \n",
       "2013-01-17  0.004918  0.032974  0.002446  0.024761  0.000000  0.000000   \n",
       "\n",
       "                 ADM      ADBE       ADP       AES  ...       WHR       WMB   \n",
       "Date                                                ...                       \n",
       "2013-01-04  0.027426  0.010066  0.008871  0.023766  ... -0.008513  0.010956  \\\n",
       "2013-01-07 -0.041410 -0.004983 -0.003889 -0.031250  ... -0.015284 -0.004394   \n",
       "2013-01-08  0.011782  0.005272  0.005772  0.000000  ...  0.006132 -0.012357   \n",
       "2013-01-09  0.004940  0.013634 -0.002532  0.004608  ...  0.007618  0.005958   \n",
       "2013-01-10 -0.004916 -0.001035  0.003722  0.017431  ... -0.000284  0.001185   \n",
       "2013-01-11  0.000000 -0.013723  0.001686  0.001803  ... -0.006901 -0.009465   \n",
       "2013-01-14  0.007763  0.001838 -0.000168 -0.007201  ...  0.003617 -0.000597   \n",
       "2013-01-15 -0.004902 -0.000262 -0.004545 -0.002720  ... -0.009485 -0.005079   \n",
       "2013-01-16 -0.001056 -0.007077 -0.005242 -0.004545  ... -0.015609  0.004204   \n",
       "2013-01-17  0.013737 -0.003960  0.005779  0.010959  ...  0.044747  0.010766   \n",
       "\n",
       "                 GWW      WYNN       XEL       XYL       YUM      ZBRA   \n",
       "Date                                                                     \n",
       "2013-01-04  0.006519  0.012066  0.003663 -0.001459  0.010950 -0.008049  \\\n",
       "2013-01-07 -0.006237  0.003395 -0.010584 -0.013153 -0.006294  0.005655   \n",
       "2013-01-08 -0.016705 -0.000825  0.001844 -0.012218 -0.041980  0.000733   \n",
       "2013-01-09  0.006874  0.003551  0.001473  0.015742 -0.003383  0.010750   \n",
       "2013-01-10 -0.006388  0.011356  0.000000  0.014022  0.022061 -0.005318   \n",
       "2013-01-11  0.004319  0.000732 -0.001103 -0.010917  0.009359  0.003645   \n",
       "2013-01-14  0.011533 -0.001545 -0.003312  0.001104 -0.010767 -0.007748   \n",
       "2013-01-15  0.005218  0.008143 -0.001108 -0.002940  0.003326  0.003904   \n",
       "2013-01-16  0.000577 -0.006785 -0.005176 -0.006635 -0.006328 -0.000729   \n",
       "2013-01-17  0.010327  0.004066  0.002230  0.017440 -0.008340  0.005108   \n",
       "\n",
       "                 ZBH      ZION  \n",
       "Date                            \n",
       "2013-01-04  0.005097  0.028610  \n",
       "2013-01-07  0.002463 -0.004856  \n",
       "2013-01-08  0.001445 -0.019965  \n",
       "2013-01-09  0.018473 -0.010865  \n",
       "2013-01-10  0.001984  0.004577  \n",
       "2013-01-11  0.006505 -0.009112  \n",
       "2013-01-14 -0.001686  0.005057  \n",
       "2013-01-15  0.000141  0.008692  \n",
       "2013-01-16  0.011962  0.011791  \n",
       "2013-01-17  0.015158  0.008516  \n",
       "\n",
       "[10 rows x 453 columns]"
      ]
     },
     "execution_count": 21,
     "metadata": {},
     "output_type": "execute_result"
    }
   ],
   "source": [
    "sp_close_prices = {d['ticker']: d['data']['Close_change'] for d in filtered_total_data}\n",
    "sp_close_prices = pd.DataFrame(sp_close_prices)\n",
    "sp_close_prices.to_csv('data/sp500_components_cpc_10y.csv')\n",
    "sp_close_prices.head(10)"
   ]
  },
  {
   "cell_type": "markdown",
   "metadata": {},
   "source": [
    "### Correlations"
   ]
  },
  {
   "cell_type": "code",
   "execution_count": 22,
   "metadata": {},
   "outputs": [],
   "source": [
    "def add_correlations(filtered_data_dicts, lookback = 60):\n",
    "    all_tickers = [d['ticker'] for d in filtered_data_dicts]\n",
    "    for d in tqdm(filtered_data_dicts):\n",
    "        ticker, data_df = d['ticker'], d['data']\n",
    "        corrs = []\n",
    "        for i in range(len(data_df)):\n",
    "            lookback_start = max(i - lookback, 0)\n",
    "            corrs.append(sp_close_prices.loc[:, all_tickers].iloc[lookback_start:i].corr().loc[ticker].values)\n",
    "        corrs_df = pd.DataFrame(corrs, index=data_df.index, columns=all_tickers)\n",
    "        d['corrs'] = pd.concat([data_df, corrs_df], axis=1)\n",
    "    return filtered_data_dicts"
   ]
  },
  {
   "cell_type": "markdown",
   "metadata": {},
   "source": [
    "#### IT Sector"
   ]
  },
  {
   "cell_type": "code",
   "execution_count": 23,
   "metadata": {},
   "outputs": [
    {
     "data": {
      "text/plain": [
       "58"
      ]
     },
     "execution_count": 23,
     "metadata": {},
     "output_type": "execute_result"
    }
   ],
   "source": [
    "it_data_dicts = [d for d in filtered_total_data if d['sector'] == 'Information Technology']\n",
    "len(it_data_dicts)"
   ]
  },
  {
   "cell_type": "code",
   "execution_count": 24,
   "metadata": {},
   "outputs": [
    {
     "data": {
      "application/vnd.jupyter.widget-view+json": {
       "model_id": "cbc63e07a8354ddd906f74f04941645f",
       "version_major": 2,
       "version_minor": 0
      },
      "text/plain": [
       "  0%|          | 0/58 [00:00<?, ?it/s]"
      ]
     },
     "metadata": {},
     "output_type": "display_data"
    }
   ],
   "source": [
    "add_correlations(it_data_dicts)\n",
    "with open('data/sp500_it_components_10y.pickle', 'wb') as f:\n",
    "    pickle.dump(it_data_dicts, f)"
   ]
  },
  {
   "cell_type": "markdown",
   "metadata": {},
   "source": [
    "#### Consumer Staples Sector"
   ]
  },
  {
   "cell_type": "code",
   "execution_count": 28,
   "metadata": {},
   "outputs": [
    {
     "data": {
      "text/plain": [
       "35"
      ]
     },
     "execution_count": 28,
     "metadata": {},
     "output_type": "execute_result"
    }
   ],
   "source": [
    "cs_data_dicts = [d for d in filtered_total_data if d['sector'] == 'Consumer Staples']\n",
    "len(cs_data_dicts)"
   ]
  },
  {
   "cell_type": "code",
   "execution_count": 29,
   "metadata": {},
   "outputs": [
    {
     "data": {
      "application/vnd.jupyter.widget-view+json": {
       "model_id": "b45a64356e8d4d53b80f4055d005c940",
       "version_major": 2,
       "version_minor": 0
      },
      "text/plain": [
       "  0%|          | 0/35 [00:00<?, ?it/s]"
      ]
     },
     "metadata": {},
     "output_type": "display_data"
    }
   ],
   "source": [
    "add_correlations(cs_data_dicts)\n",
    "with open('data/sp500_cs_components_10y.pickle', 'wb') as f:\n",
    "    pickle.dump(cs_data_dicts, f)"
   ]
  },
  {
   "cell_type": "markdown",
   "metadata": {},
   "source": [
    "#### Energy Sector"
   ]
  },
  {
   "cell_type": "code",
   "execution_count": 30,
   "metadata": {},
   "outputs": [
    {
     "data": {
      "text/plain": [
       "23"
      ]
     },
     "execution_count": 30,
     "metadata": {},
     "output_type": "execute_result"
    }
   ],
   "source": [
    "energy_data_dicts = [d for d in filtered_total_data if d['sector'] == 'Energy']\n",
    "len(energy_data_dicts)"
   ]
  },
  {
   "cell_type": "code",
   "execution_count": 31,
   "metadata": {},
   "outputs": [
    {
     "data": {
      "application/vnd.jupyter.widget-view+json": {
       "model_id": "5d8314c567c64da295496fedd51908fe",
       "version_major": 2,
       "version_minor": 0
      },
      "text/plain": [
       "  0%|          | 0/23 [00:00<?, ?it/s]"
      ]
     },
     "metadata": {},
     "output_type": "display_data"
    }
   ],
   "source": [
    "add_correlations(energy_data_dicts)\n",
    "with open('data/sp500_energy_components_10y.pickle', 'wb') as f:\n",
    "    pickle.dump(energy_data_dicts, f)"
   ]
  },
  {
   "cell_type": "markdown",
   "metadata": {},
   "source": [
    "#### Real Estate Sector"
   ]
  },
  {
   "cell_type": "code",
   "execution_count": 32,
   "metadata": {},
   "outputs": [
    {
     "data": {
      "text/plain": [
       "28"
      ]
     },
     "execution_count": 32,
     "metadata": {},
     "output_type": "execute_result"
    }
   ],
   "source": [
    "re_data_dicts = [d for d in filtered_total_data if d['sector'] == 'Real Estate']\n",
    "len(re_data_dicts)"
   ]
  },
  {
   "cell_type": "code",
   "execution_count": 33,
   "metadata": {},
   "outputs": [
    {
     "data": {
      "application/vnd.jupyter.widget-view+json": {
       "model_id": "38c6fd281ff243d5bf1037c0f0c08b89",
       "version_major": 2,
       "version_minor": 0
      },
      "text/plain": [
       "  0%|          | 0/28 [00:00<?, ?it/s]"
      ]
     },
     "metadata": {},
     "output_type": "display_data"
    }
   ],
   "source": [
    "add_correlations(re_data_dicts)\n",
    "with open('data/sp500_re_components_10y.pickle', 'wb') as f:\n",
    "    pickle.dump(re_data_dicts, f)"
   ]
  },
  {
   "cell_type": "markdown",
   "metadata": {
    "ExecuteTime": {
     "end_time": "2023-05-26T11:18:09.724066153Z",
     "start_time": "2023-05-26T11:18:09.178859315Z"
    }
   },
   "source": [
    "## Данные индекса S&P500"
   ]
  },
  {
   "cell_type": "code",
   "execution_count": 34,
   "metadata": {},
   "outputs": [
    {
     "data": {
      "text/plain": [
       "1760"
      ]
     },
     "execution_count": 34,
     "metadata": {},
     "output_type": "execute_result"
    }
   ],
   "source": [
    "sp500_index = get_stock_data('^GSPC', start = '2016-01-01', end = '2023-01-01', technical_indicators=technical_indicators)\n",
    "len(sp500_index)\n",
    "# sp500_prices = pdr.data.get_data_yahoo('^GSPC', adjust_dividends=False, start=start, end=end)"
   ]
  },
  {
   "cell_type": "code",
   "execution_count": 35,
   "metadata": {
    "ExecuteTime": {
     "end_time": "2023-05-26T11:18:20.152702106Z",
     "start_time": "2023-05-26T11:18:19.605096497Z"
    }
   },
   "outputs": [
    {
     "data": {
      "text/plain": [
       "Index(['rsi_20', 'macd', 'wr_20', 'wr_60', 'cci_20', 'close_20_mvar', 'dma',\n",
       "       'MaxDayDelta_change', 'Volume_change', 'Close_change',\n",
       "       'close_20_sma_change', 'close_60_sma_change'],\n",
       "      dtype='object')"
      ]
     },
     "execution_count": 35,
     "metadata": {},
     "output_type": "execute_result"
    }
   ],
   "source": [
    "sp500_index.columns"
   ]
  },
  {
   "cell_type": "code",
   "execution_count": 39,
   "metadata": {
    "ExecuteTime": {
     "end_time": "2023-05-26T11:18:22.137302055Z",
     "start_time": "2023-05-26T11:18:22.132605083Z"
    }
   },
   "outputs": [
    {
     "data": {
      "text/plain": [
       "<Axes: xlabel='Date'>"
      ]
     },
     "execution_count": 39,
     "metadata": {},
     "output_type": "execute_result"
    },
    {
     "data": {
      "image/png": "[encoded data removed]",
      "text/plain": [
       "<Figure size 1200x800 with 1 Axes>"
      ]
     },
     "metadata": {},
     "output_type": "display_data"
    }
   ],
   "source": [
    "fig = plt.figure(figsize=(12, 8))\n",
    "sp500_index['close_20_mvar'].plot()"
   ]
  },
  {
   "cell_type": "code",
   "execution_count": 37,
   "metadata": {
    "ExecuteTime": {
     "end_time": "2023-05-26T11:18:24.219594625Z",
     "start_time": "2023-05-26T11:18:23.999910404Z"
    }
   },
   "outputs": [],
   "source": [
    "sp500_index.to_csv('data/sp500_index_7y.csv')"
   ]
  }
 ],
 "metadata": {
  "kernelspec": {
   "display_name": "Python 3 (ipykernel)",
   "language": "python",
   "name": "python3"
  },
  "language_info": {
   "codemirror_mode": {
    "name": "ipython",
    "version": 3
   },
   "file_extension": ".py",
   "mimetype": "text/x-python",
   "name": "python",
   "nbconvert_exporter": "python",
   "pygments_lexer": "ipython3",
   "version": "3.10.6"
  }
 },
 "nbformat": 4,
 "nbformat_minor": 1
}
