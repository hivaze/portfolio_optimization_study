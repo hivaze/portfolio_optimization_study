{
 "cells": [
  {
   "cell_type": "code",
   "execution_count": 1,
   "metadata": {
    "collapsed": true,
    "pycharm": {
     "name": "#%%\n"
    }
   },
   "outputs": [],
   "source": [
    "import pandas_datareader as pdr\n",
    "\n",
    "from tqdm import tqdm\n",
    "from datetime import datetime\n",
    "import pickle\n",
    "\n",
    "import numpy as np\n",
    "import pandas as pd\n",
    "\n",
    "import seaborn as sns"
   ]
  },
  {
   "cell_type": "markdown",
   "source": [
    "## Составляющие индекса S&P500\n",
    "S&P 500 — фондовый индекс, в корзину которого включено 505 акций 500 избранных торгуемых на фондовых биржах США публичных компаний, имеющих наибольшую капитализацию.\n",
    "\n",
    "The S&P 500 component weights:\n",
    "https://www.slickcharts.com/sp500"
   ],
   "metadata": {
    "collapsed": false,
    "pycharm": {
     "name": "#%% md\n"
    }
   }
  },
  {
   "cell_type": "code",
   "execution_count": 5,
   "outputs": [],
   "source": [
    "sp500_index = pd.read_html('https://en.wikipedia.org/wiki/List_of_S%26P_500_companies')\n",
    "sp500_companies = sp500_index[0]"
   ],
   "metadata": {
    "collapsed": false,
    "pycharm": {
     "name": "#%%\n"
    }
   }
  },
  {
   "cell_type": "code",
   "execution_count": 6,
   "outputs": [],
   "source": [
    "# get_nasdaq_symbols().query('ETF==True')"
   ],
   "metadata": {
    "collapsed": false,
    "pycharm": {
     "name": "#%%\n"
    }
   }
  },
  {
   "cell_type": "code",
   "execution_count": 7,
   "outputs": [
    {
     "name": "stdout",
     "output_type": "stream",
     "text": [
      "<class 'pandas.core.frame.DataFrame'>\n",
      "RangeIndex: 505 entries, 0 to 504\n",
      "Data columns (total 9 columns):\n",
      " #   Column                 Non-Null Count  Dtype \n",
      "---  ------                 --------------  ----- \n",
      " 0   Symbol                 505 non-null    object\n",
      " 1   Security               505 non-null    object\n",
      " 2   SEC filings            505 non-null    object\n",
      " 3   GICS Sector            505 non-null    object\n",
      " 4   GICS Sub-Industry      505 non-null    object\n",
      " 5   Headquarters Location  505 non-null    object\n",
      " 6   Date first added       460 non-null    object\n",
      " 7   CIK                    505 non-null    int64 \n",
      " 8   Founded                505 non-null    object\n",
      "dtypes: int64(1), object(8)\n",
      "memory usage: 35.6+ KB\n"
     ]
    }
   ],
   "source": [
    "sp500_companies.info()"
   ],
   "metadata": {
    "collapsed": false,
    "pycharm": {
     "name": "#%%\n"
    }
   }
  },
  {
   "cell_type": "code",
   "execution_count": 8,
   "outputs": [
    {
     "data": {
      "text/plain": "  Symbol     Security SEC filings  GICS Sector         GICS Sub-Industry  \\\n0    MMM           3M     reports  Industrials  Industrial Conglomerates   \n1    AOS  A. O. Smith     reports  Industrials         Building Products   \n2    ABT       Abbott     reports  Health Care     Health Care Equipment   \n3   ABBV       AbbVie     reports  Health Care           Pharmaceuticals   \n4   ABMD      Abiomed     reports  Health Care     Health Care Equipment   \n\n     Headquarters Location Date first added      CIK      Founded  \n0    Saint Paul, Minnesota       1976-08-09    66740         1902  \n1     Milwaukee, Wisconsin       2017-07-26    91142         1916  \n2  North Chicago, Illinois       1964-03-31     1800         1888  \n3  North Chicago, Illinois       2012-12-31  1551152  2013 (1888)  \n4   Danvers, Massachusetts       2018-05-31   815094         1981  ",
      "text/html": "<div>\n<style scoped>\n    .dataframe tbody tr th:only-of-type {\n        vertical-align: middle;\n    }\n\n    .dataframe tbody tr th {\n        vertical-align: top;\n    }\n\n    .dataframe thead th {\n        text-align: right;\n    }\n</style>\n<table border=\"1\" class=\"dataframe\">\n  <thead>\n    <tr style=\"text-align: right;\">\n      <th></th>\n      <th>Symbol</th>\n      <th>Security</th>\n      <th>SEC filings</th>\n      <th>GICS Sector</th>\n      <th>GICS Sub-Industry</th>\n      <th>Headquarters Location</th>\n      <th>Date first added</th>\n      <th>CIK</th>\n      <th>Founded</th>\n    </tr>\n  </thead>\n  <tbody>\n    <tr>\n      <th>0</th>\n      <td>MMM</td>\n      <td>3M</td>\n      <td>reports</td>\n      <td>Industrials</td>\n      <td>Industrial Conglomerates</td>\n      <td>Saint Paul, Minnesota</td>\n      <td>1976-08-09</td>\n      <td>66740</td>\n      <td>1902</td>\n    </tr>\n    <tr>\n      <th>1</th>\n      <td>AOS</td>\n      <td>A. O. Smith</td>\n      <td>reports</td>\n      <td>Industrials</td>\n      <td>Building Products</td>\n      <td>Milwaukee, Wisconsin</td>\n      <td>2017-07-26</td>\n      <td>91142</td>\n      <td>1916</td>\n    </tr>\n    <tr>\n      <th>2</th>\n      <td>ABT</td>\n      <td>Abbott</td>\n      <td>reports</td>\n      <td>Health Care</td>\n      <td>Health Care Equipment</td>\n      <td>North Chicago, Illinois</td>\n      <td>1964-03-31</td>\n      <td>1800</td>\n      <td>1888</td>\n    </tr>\n    <tr>\n      <th>3</th>\n      <td>ABBV</td>\n      <td>AbbVie</td>\n      <td>reports</td>\n      <td>Health Care</td>\n      <td>Pharmaceuticals</td>\n      <td>North Chicago, Illinois</td>\n      <td>2012-12-31</td>\n      <td>1551152</td>\n      <td>2013 (1888)</td>\n    </tr>\n    <tr>\n      <th>4</th>\n      <td>ABMD</td>\n      <td>Abiomed</td>\n      <td>reports</td>\n      <td>Health Care</td>\n      <td>Health Care Equipment</td>\n      <td>Danvers, Massachusetts</td>\n      <td>2018-05-31</td>\n      <td>815094</td>\n      <td>1981</td>\n    </tr>\n  </tbody>\n</table>\n</div>"
     },
     "execution_count": 8,
     "metadata": {},
     "output_type": "execute_result"
    }
   ],
   "source": [
    "sp500_companies.head()"
   ],
   "metadata": {
    "collapsed": false,
    "pycharm": {
     "name": "#%%\n"
    }
   }
  },
  {
   "cell_type": "code",
   "execution_count": 9,
   "outputs": [],
   "source": [
    "sp500_companies.to_csv('data/SP500_companies.csv')"
   ],
   "metadata": {
    "collapsed": false,
    "pycharm": {
     "name": "#%%\n"
    }
   }
  },
  {
   "cell_type": "code",
   "execution_count": null,
   "outputs": [],
   "source": [
    "# pd.to_datetime(sp500_companies['Date first added'], format=\"%Y-%m-%d\")"
   ],
   "metadata": {
    "collapsed": false,
    "pycharm": {
     "name": "#%%\n"
    }
   }
  },
  {
   "cell_type": "code",
   "execution_count": 10,
   "outputs": [
    {
     "data": {
      "text/plain": "['MMM',\n 'AOS',\n 'ABT',\n 'ABBV',\n 'ABMD',\n 'ACN',\n 'ATVI',\n 'ADM',\n 'ADBE',\n 'ADP',\n 'AAP',\n 'AES',\n 'AFL',\n 'A',\n 'AIG',\n 'APD',\n 'AKAM',\n 'ALK',\n 'ALB',\n 'ARE',\n 'ALGN',\n 'ALLE',\n 'LNT',\n 'ALL',\n 'GOOGL',\n 'GOOG',\n 'MO',\n 'AMZN',\n 'AMCR',\n 'AMD',\n 'AEE',\n 'AAL',\n 'AEP',\n 'AXP',\n 'AMT',\n 'AWK',\n 'AMP',\n 'ABC',\n 'AME',\n 'AMGN',\n 'APH',\n 'ADI',\n 'ANSS',\n 'ANTM',\n 'AON',\n 'APA',\n 'AAPL',\n 'AMAT',\n 'APTV',\n 'ANET',\n 'AIZ',\n 'T',\n 'ATO',\n 'ADSK',\n 'AZO',\n 'AVB',\n 'AVY',\n 'BKR',\n 'BLL',\n 'BAC',\n 'BBWI',\n 'BAX',\n 'BDX',\n 'WRB',\n 'BRK.B',\n 'BBY',\n 'BIO',\n 'TECH',\n 'BIIB',\n 'BLK',\n 'BK',\n 'BA',\n 'BKNG',\n 'BWA',\n 'BXP',\n 'BSX',\n 'BMY',\n 'AVGO',\n 'BR',\n 'BRO',\n 'BF.B',\n 'CHRW',\n 'CDNS',\n 'CZR',\n 'CPB',\n 'COF',\n 'CAH',\n 'KMX',\n 'CCL',\n 'CARR',\n 'CTLT',\n 'CAT',\n 'CBOE',\n 'CBRE',\n 'CDW',\n 'CE',\n 'CNC',\n 'CNP',\n 'CDAY',\n 'CERN',\n 'CF',\n 'CRL',\n 'SCHW',\n 'CHTR',\n 'CVX',\n 'CMG',\n 'CB',\n 'CHD',\n 'CI',\n 'CINF',\n 'CTAS',\n 'CSCO',\n 'C',\n 'CFG',\n 'CTXS',\n 'CLX',\n 'CME',\n 'CMS',\n 'KO',\n 'CTSH',\n 'CL',\n 'CMCSA',\n 'CMA',\n 'CAG',\n 'COP',\n 'ED',\n 'STZ',\n 'CEG',\n 'COO',\n 'CPRT',\n 'GLW',\n 'CTVA',\n 'COST',\n 'CTRA',\n 'CCI',\n 'CSX',\n 'CMI',\n 'CVS',\n 'DHI',\n 'DHR',\n 'DRI',\n 'DVA',\n 'DE',\n 'DAL',\n 'XRAY',\n 'DVN',\n 'DXCM',\n 'FANG',\n 'DLR',\n 'DFS',\n 'DISCA',\n 'DISCK',\n 'DISH',\n 'DIS',\n 'DG',\n 'DLTR',\n 'D',\n 'DPZ',\n 'DOV',\n 'DOW',\n 'DTE',\n 'DUK',\n 'DRE',\n 'DD',\n 'DXC',\n 'EMN',\n 'ETN',\n 'EBAY',\n 'ECL',\n 'EIX',\n 'EW',\n 'EA',\n 'EMR',\n 'ENPH',\n 'ETR',\n 'EOG',\n 'EPAM',\n 'EFX',\n 'EQIX',\n 'EQR',\n 'ESS',\n 'EL',\n 'ETSY',\n 'RE',\n 'EVRG',\n 'ES',\n 'EXC',\n 'EXPE',\n 'EXPD',\n 'EXR',\n 'XOM',\n 'FFIV',\n 'FDS',\n 'FAST',\n 'FRT',\n 'FDX',\n 'FITB',\n 'FRC',\n 'FE',\n 'FIS',\n 'FISV',\n 'FLT',\n 'FMC',\n 'F',\n 'FTNT',\n 'FTV',\n 'FBHS',\n 'FOXA',\n 'FOX',\n 'BEN',\n 'FCX',\n 'AJG',\n 'GRMN',\n 'IT',\n 'GE',\n 'GNRC',\n 'GD',\n 'GIS',\n 'GPC',\n 'GILD',\n 'GL',\n 'GPN',\n 'GM',\n 'GS',\n 'GWW',\n 'HAL',\n 'HIG',\n 'HAS',\n 'HCA',\n 'PEAK',\n 'HSIC',\n 'HSY',\n 'HES',\n 'HPE',\n 'HLT',\n 'HOLX',\n 'HD',\n 'HON',\n 'HRL',\n 'HST',\n 'HWM',\n 'HPQ',\n 'HUM',\n 'HII',\n 'HBAN',\n 'IEX',\n 'IDXX',\n 'ITW',\n 'ILMN',\n 'INCY',\n 'IR',\n 'INTC',\n 'ICE',\n 'IBM',\n 'IP',\n 'IPG',\n 'IFF',\n 'INTU',\n 'ISRG',\n 'IVZ',\n 'IPGP',\n 'IQV',\n 'IRM',\n 'JBHT',\n 'JKHY',\n 'J',\n 'JNJ',\n 'JCI',\n 'JPM',\n 'JNPR',\n 'K',\n 'KEY',\n 'KEYS',\n 'KMB',\n 'KIM',\n 'KMI',\n 'KLAC',\n 'KHC',\n 'KR',\n 'LHX',\n 'LH',\n 'LRCX',\n 'LW',\n 'LVS',\n 'LDOS',\n 'LEN',\n 'LLY',\n 'LNC',\n 'LIN',\n 'LYV',\n 'LKQ',\n 'LMT',\n 'L',\n 'LOW',\n 'LUMN',\n 'LYB',\n 'MTB',\n 'MRO',\n 'MPC',\n 'MKTX',\n 'MAR',\n 'MMC',\n 'MLM',\n 'MAS',\n 'MA',\n 'MTCH',\n 'MKC',\n 'MCD',\n 'MCK',\n 'MDT',\n 'MRK',\n 'FB',\n 'MET',\n 'MTD',\n 'MGM',\n 'MCHP',\n 'MU',\n 'MSFT',\n 'MAA',\n 'MRNA',\n 'MHK',\n 'MOH',\n 'TAP',\n 'MDLZ',\n 'MPWR',\n 'MNST',\n 'MCO',\n 'MS',\n 'MOS',\n 'MSI',\n 'MSCI',\n 'NDAQ',\n 'NTAP',\n 'NFLX',\n 'NWL',\n 'NEM',\n 'NWSA',\n 'NWS',\n 'NEE',\n 'NLSN',\n 'NKE',\n 'NI',\n 'NDSN',\n 'NSC',\n 'NTRS',\n 'NOC',\n 'NLOK',\n 'NCLH',\n 'NRG',\n 'NUE',\n 'NVDA',\n 'NVR',\n 'NXPI',\n 'ORLY',\n 'OXY',\n 'ODFL',\n 'OMC',\n 'OKE',\n 'ORCL',\n 'OGN',\n 'OTIS',\n 'PCAR',\n 'PKG',\n 'PARA',\n 'PH',\n 'PAYX',\n 'PAYC',\n 'PYPL',\n 'PENN',\n 'PNR',\n 'PBCT',\n 'PEP',\n 'PKI',\n 'PFE',\n 'PM',\n 'PSX',\n 'PNW',\n 'PXD',\n 'PNC',\n 'POOL',\n 'PPG',\n 'PPL',\n 'PFG',\n 'PG',\n 'PGR',\n 'PLD',\n 'PRU',\n 'PEG',\n 'PTC',\n 'PSA',\n 'PHM',\n 'PVH',\n 'QRVO',\n 'PWR',\n 'QCOM',\n 'DGX',\n 'RL',\n 'RJF',\n 'RTX',\n 'O',\n 'REG',\n 'REGN',\n 'RF',\n 'RSG',\n 'RMD',\n 'RHI',\n 'ROK',\n 'ROL',\n 'ROP',\n 'ROST',\n 'RCL',\n 'SPGI',\n 'CRM',\n 'SBAC',\n 'SLB',\n 'STX',\n 'SEE',\n 'SRE',\n 'NOW',\n 'SHW',\n 'SBNY',\n 'SPG',\n 'SWKS',\n 'SJM',\n 'SNA',\n 'SEDG',\n 'SO',\n 'LUV',\n 'SWK',\n 'SBUX',\n 'STT',\n 'STE',\n 'SYK',\n 'SIVB',\n 'SYF',\n 'SNPS',\n 'SYY',\n 'TMUS',\n 'TROW',\n 'TTWO',\n 'TPR',\n 'TGT',\n 'TEL',\n 'TDY',\n 'TFX',\n 'TER',\n 'TSLA',\n 'TXN',\n 'TXT',\n 'TMO',\n 'TJX',\n 'TSCO',\n 'TT',\n 'TDG',\n 'TRV',\n 'TRMB',\n 'TFC',\n 'TWTR',\n 'TYL',\n 'TSN',\n 'USB',\n 'UDR',\n 'ULTA',\n 'UAA',\n 'UA',\n 'UNP',\n 'UAL',\n 'UNH',\n 'UPS',\n 'URI',\n 'UHS',\n 'VLO',\n 'VTR',\n 'VRSN',\n 'VRSK',\n 'VZ',\n 'VRTX',\n 'VFC',\n 'VTRS',\n 'V',\n 'VNO',\n 'VMC',\n 'WAB',\n 'WMT',\n 'WBA',\n 'WM',\n 'WAT',\n 'WEC',\n 'WFC',\n 'WELL',\n 'WST',\n 'WDC',\n 'WRK',\n 'WY',\n 'WHR',\n 'WMB',\n 'WTW',\n 'WYNN',\n 'XEL',\n 'XYL',\n 'YUM',\n 'ZBRA',\n 'ZBH',\n 'ZION',\n 'ZTS']"
     },
     "execution_count": 10,
     "metadata": {},
     "output_type": "execute_result"
    }
   ],
   "source": [
    "symbols = list(sp500_companies['Symbol'])\n",
    "symbols"
   ],
   "metadata": {
    "collapsed": false,
    "pycharm": {
     "name": "#%%\n"
    }
   }
  },
  {
   "cell_type": "code",
   "execution_count": 2,
   "outputs": [],
   "source": [
    "start = datetime(2018, 1, 1)\n",
    "end = datetime(2022, 3, 1)"
   ],
   "metadata": {
    "collapsed": false,
    "pycharm": {
     "name": "#%%\n"
    }
   }
  },
  {
   "cell_type": "code",
   "execution_count": 12,
   "outputs": [],
   "source": [
    "def get_data_from_tickers(tickers):\n",
    "    data = {}\n",
    "    for ticker in tqdm(tickers):\n",
    "        try:\n",
    "            data[ticker] = pdr.data.get_data_yahoo(ticker, adjust_dividends=False, start=start, end=end)\n",
    "        except Exception as e:\n",
    "            print(f'Error occurred with ticker {ticker}: {e}')\n",
    "    return data"
   ],
   "metadata": {
    "collapsed": false,
    "pycharm": {
     "name": "#%%\n"
    }
   }
  },
  {
   "cell_type": "code",
   "execution_count": 13,
   "outputs": [
    {
     "name": "stderr",
     "output_type": "stream",
     "text": [
      " 13%|█▎        | 65/505 [02:36<14:17,  1.95s/it]  "
     ]
    },
    {
     "name": "stdout",
     "output_type": "stream",
     "text": [
      "Error occurred with ticker BRK.B: 'Date'\n"
     ]
    },
    {
     "name": "stderr",
     "output_type": "stream",
     "text": [
      " 16%|█▌        | 81/505 [03:09<13:51,  1.96s/it]"
     ]
    },
    {
     "name": "stdout",
     "output_type": "stream",
     "text": [
      "Error occurred with ticker BF.B: 'Date'\n"
     ]
    },
    {
     "name": "stderr",
     "output_type": "stream",
     "text": [
      " 51%|█████     | 257/505 [10:21<14:27,  3.50s/it]"
     ]
    },
    {
     "name": "stdout",
     "output_type": "stream",
     "text": [
      "Error occurred with ticker IFF: 'Date'\n"
     ]
    },
    {
     "name": "stderr",
     "output_type": "stream",
     "text": [
      " 77%|███████▋  | 388/505 [18:18<08:26,  4.33s/it]"
     ]
    },
    {
     "name": "stdout",
     "output_type": "stream",
     "text": [
      "Error occurred with ticker PEG: 'Date'\n"
     ]
    },
    {
     "name": "stderr",
     "output_type": "stream",
     "text": [
      " 77%|███████▋  | 390/505 [18:26<08:23,  4.38s/it]"
     ]
    },
    {
     "name": "stdout",
     "output_type": "stream",
     "text": [
      "Error occurred with ticker PSA: 'Date'\n"
     ]
    },
    {
     "name": "stderr",
     "output_type": "stream",
     "text": [
      " 80%|████████  | 406/505 [19:20<05:50,  3.54s/it]"
     ]
    },
    {
     "name": "stdout",
     "output_type": "stream",
     "text": [
      "Error occurred with ticker RHI: 'Date'\n"
     ]
    },
    {
     "name": "stderr",
     "output_type": "stream",
     "text": [
      " 82%|████████▏ | 416/505 [19:48<04:48,  3.25s/it]"
     ]
    },
    {
     "name": "stdout",
     "output_type": "stream",
     "text": [
      "Error occurred with ticker STX: 'Date'\n"
     ]
    },
    {
     "name": "stderr",
     "output_type": "stream",
     "text": [
      " 86%|████████▋ | 436/505 [20:49<04:40,  4.06s/it]"
     ]
    },
    {
     "name": "stdout",
     "output_type": "stream",
     "text": [
      "Error occurred with ticker SNPS: 'Date'\n"
     ]
    },
    {
     "name": "stderr",
     "output_type": "stream",
     "text": [
      " 90%|█████████ | 455/505 [22:07<03:03,  3.67s/it]"
     ]
    },
    {
     "name": "stdout",
     "output_type": "stream",
     "text": [
      "Error occurred with ticker TRV: 'Date'\n"
     ]
    },
    {
     "name": "stderr",
     "output_type": "stream",
     "text": [
      " 92%|█████████▏| 465/505 [22:45<03:33,  5.33s/it]"
     ]
    },
    {
     "name": "stdout",
     "output_type": "stream",
     "text": [
      "Error occurred with ticker UA: 'Date'\n"
     ]
    },
    {
     "name": "stderr",
     "output_type": "stream",
     "text": [
      " 94%|█████████▍| 477/505 [23:31<01:52,  4.02s/it]"
     ]
    },
    {
     "name": "stdout",
     "output_type": "stream",
     "text": [
      "Error occurred with ticker VRTX: 'Date'\n"
     ]
    },
    {
     "name": "stderr",
     "output_type": "stream",
     "text": [
      " 95%|█████████▍| 479/505 [23:47<02:29,  5.76s/it]"
     ]
    },
    {
     "name": "stdout",
     "output_type": "stream",
     "text": [
      "Error occurred with ticker VTRS: 'Date'\n"
     ]
    },
    {
     "name": "stderr",
     "output_type": "stream",
     "text": [
      " 95%|█████████▌| 482/505 [23:58<01:39,  4.33s/it]"
     ]
    },
    {
     "name": "stdout",
     "output_type": "stream",
     "text": [
      "Error occurred with ticker VMC: 'Date'\n"
     ]
    },
    {
     "name": "stderr",
     "output_type": "stream",
     "text": [
      " 98%|█████████▊| 493/505 [24:52<00:50,  4.24s/it]"
     ]
    },
    {
     "name": "stdout",
     "output_type": "stream",
     "text": [
      "Error occurred with ticker WRK: 'Date'\n"
     ]
    },
    {
     "name": "stderr",
     "output_type": "stream",
     "text": [
      " 99%|█████████▉| 500/505 [25:15<00:18,  3.71s/it]"
     ]
    },
    {
     "name": "stdout",
     "output_type": "stream",
     "text": [
      "Error occurred with ticker XYL: 'Date'\n"
     ]
    },
    {
     "name": "stderr",
     "output_type": "stream",
     "text": [
      "100%|█████████▉| 503/505 [25:30<00:09,  4.75s/it]"
     ]
    },
    {
     "name": "stdout",
     "output_type": "stream",
     "text": [
      "Error occurred with ticker ZBH: 'Date'\n"
     ]
    },
    {
     "name": "stderr",
     "output_type": "stream",
     "text": [
      "100%|██████████| 505/505 [25:36<00:00,  3.04s/it]\n"
     ]
    }
   ],
   "source": [
    "data_for_symbols = get_data_from_tickers(symbols)"
   ],
   "metadata": {
    "collapsed": false,
    "pycharm": {
     "name": "#%%\n"
    }
   }
  },
  {
   "cell_type": "code",
   "execution_count": 11,
   "outputs": [],
   "source": [
    "# with open('data/sp500_data.pickle', 'rb') as f:\n",
    "#     data_for_symbols = pickle.load(f)"
   ],
   "metadata": {
    "collapsed": false,
    "pycharm": {
     "name": "#%%\n"
    }
   }
  },
  {
   "cell_type": "code",
   "execution_count": 14,
   "outputs": [
    {
     "name": "stdout",
     "output_type": "stream",
     "text": [
      "1048.0\n"
     ]
    },
    {
     "data": {
      "text/plain": "<AxesSubplot:ylabel='Count'>"
     },
     "execution_count": 14,
     "metadata": {},
     "output_type": "execute_result"
    },
    {
     "data": {
      "text/plain": "<Figure size 432x288 with 1 Axes>",
      "image/png": "[encoded data removed]"
     },
     "metadata": {
      "needs_background": "light"
     },
     "output_type": "display_data"
    }
   ],
   "source": [
    "observations = [len(data_for_symbols[k]) for k in data_for_symbols.keys()]\n",
    "counts = filter(lambda x: x < np.median(observations), observations)\n",
    "print(np.median(observations))\n",
    "sns.histplot(x=counts)"
   ],
   "metadata": {
    "collapsed": false,
    "pycharm": {
     "name": "#%%\n"
    }
   }
  },
  {
   "cell_type": "markdown",
   "source": [
    "### Убираем компании с количеством записей меньше медианы"
   ],
   "metadata": {
    "collapsed": false,
    "pycharm": {
     "name": "#%% md\n"
    }
   }
  },
  {
   "cell_type": "code",
   "execution_count": 14,
   "outputs": [],
   "source": [
    "data_for_symbols = {k: v for k, v in data_for_symbols.items() if len(v) >= np.median(observations)}\n",
    "with open('data/sp500_data.pickle', 'wb') as f:\n",
    "    pickle.dump(data_for_symbols, f)"
   ],
   "metadata": {
    "collapsed": false,
    "pycharm": {
     "name": "#%%\n"
    }
   }
  },
  {
   "cell_type": "code",
   "execution_count": 15,
   "outputs": [
    {
     "name": "stdout",
     "output_type": "stream",
     "text": [
      "Размер отфильтрованного индекса S&p500:  493\n"
     ]
    }
   ],
   "source": [
    "print('Размер отфильтрованного индекса S&p500: ', len(data_for_symbols))"
   ],
   "metadata": {
    "collapsed": false,
    "pycharm": {
     "name": "#%%\n"
    }
   }
  },
  {
   "cell_type": "code",
   "execution_count": 16,
   "outputs": [],
   "source": [
    "sp_close_prices = {k: v['Close'] for k, v in data_for_symbols.items()}\n",
    "sp_close_prices = pd.DataFrame(sp_close_prices)\n",
    "sp_close_prices.to_csv('data/sp_close_prices.csv')"
   ],
   "metadata": {
    "collapsed": false,
    "pycharm": {
     "name": "#%%\n"
    }
   }
  },
  {
   "cell_type": "markdown",
   "source": [
    "## Данные индекса S&P500"
   ],
   "metadata": {
    "collapsed": false,
    "pycharm": {
     "name": "#%% md\n"
    }
   }
  },
  {
   "cell_type": "code",
   "execution_count": 10,
   "outputs": [],
   "source": [
    "sp500_prices = pdr.data.get_data_yahoo('^GSPC', adjust_dividends=False, start=start, end=end)"
   ],
   "metadata": {
    "collapsed": false,
    "pycharm": {
     "name": "#%%\n"
    }
   }
  },
  {
   "cell_type": "code",
   "execution_count": 11,
   "outputs": [
    {
     "data": {
      "text/plain": "<AxesSubplot:xlabel='Date'>"
     },
     "execution_count": 11,
     "metadata": {},
     "output_type": "execute_result"
    },
    {
     "data": {
      "text/plain": "<Figure size 432x288 with 1 Axes>",
      "image/png": "[encoded data removed]"
     },
     "metadata": {
      "needs_background": "light"
     },
     "output_type": "display_data"
    }
   ],
   "source": [
    "sp500_prices['Close'].plot()"
   ],
   "metadata": {
    "collapsed": false,
    "pycharm": {
     "name": "#%%\n"
    }
   }
  },
  {
   "cell_type": "code",
   "execution_count": 12,
   "outputs": [],
   "source": [
    "sp500_prices['Close'].to_csv('data/sp500.csv')"
   ],
   "metadata": {
    "collapsed": false,
    "pycharm": {
     "name": "#%%\n"
    }
   }
  }
 ],
 "metadata": {
  "kernelspec": {
   "display_name": "Python 3",
   "language": "python",
   "name": "python3"
  },
  "language_info": {
   "codemirror_mode": {
    "name": "ipython",
    "version": 2
   },
   "file_extension": ".py",
   "mimetype": "text/x-python",
   "name": "python",
   "nbconvert_exporter": "python",
   "pygments_lexer": "ipython2",
   "version": "2.7.6"
  }
 },
 "nbformat": 4,
 "nbformat_minor": 0
}